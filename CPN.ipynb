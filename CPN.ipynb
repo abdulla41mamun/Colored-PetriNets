{
  "nbformat": 4,
  "nbformat_minor": 0,
  "metadata": {
    "colab": {
      "provenance": [],
      "authorship_tag": "ABX9TyMtGEEx0bmCSNqCJOfOMxgd",
      "include_colab_link": true
    },
    "kernelspec": {
      "name": "python3",
      "display_name": "Python 3"
    },
    "language_info": {
      "name": "python"
    }
  },
  "cells": [
    {
      "cell_type": "markdown",
      "metadata": {
        "id": "view-in-github",
        "colab_type": "text"
      },
      "source": [
        "<a href=\"https://colab.research.google.com/github/abdulla41mamun/Colored-PetriNets/blob/main/CPN.ipynb\" target=\"_parent\"><img src=\"https://colab.research.google.com/assets/colab-badge.svg\" alt=\"Open In Colab\"/></a>"
      ]
    },
    {
      "cell_type": "code",
      "execution_count": 1,
      "metadata": {
        "colab": {
          "base_uri": "https://localhost:8080/"
        },
        "id": "ZRYv2O5roRcO",
        "outputId": "dc2a4c45-d1ff-4fa5-8417-d743d27979c5"
      },
      "outputs": [
        {
          "output_type": "stream",
          "name": "stdout",
          "text": [
            "Collecting snakes\n",
            "  Downloading SNAKES-0.9.33.tar.gz (677 kB)\n",
            "\u001b[?25l     \u001b[90m━━━━━━━━━━━━━━━━━━━━━━━━━━━━━━━━━━━━━━━━\u001b[0m \u001b[32m0.0/677.1 kB\u001b[0m \u001b[31m?\u001b[0m eta \u001b[36m-:--:--\u001b[0m\r\u001b[2K     \u001b[91m━━━━━━━━━━━━━━━━━━━━━━━━━━━━━━━━━━━━━━━\u001b[0m\u001b[91m╸\u001b[0m \u001b[32m675.8/677.1 kB\u001b[0m \u001b[31m41.1 MB/s\u001b[0m eta \u001b[36m0:00:01\u001b[0m\r\u001b[2K     \u001b[90m━━━━━━━━━━━━━━━━━━━━━━━━━━━━━━━━━━━━━━━━\u001b[0m \u001b[32m677.1/677.1 kB\u001b[0m \u001b[31m13.9 MB/s\u001b[0m eta \u001b[36m0:00:00\u001b[0m\n",
            "\u001b[?25h  Preparing metadata (setup.py) ... \u001b[?25l\u001b[?25hdone\n",
            "Requirement already satisfied: graphviz in /usr/local/lib/python3.10/dist-packages (0.20.3)\n",
            "Building wheels for collected packages: snakes\n",
            "  Building wheel for snakes (setup.py) ... \u001b[?25l\u001b[?25hdone\n",
            "  Created wheel for snakes: filename=SNAKES-0.9.33-py3-none-any.whl size=709879 sha256=0ee119956388975f83cb5a85a32f6973c23c5a337509c2ed4af731054cfdc693\n",
            "  Stored in directory: /root/.cache/pip/wheels/74/93/d8/1bc3fe2c883bcd0f3bd36944a0f243155790aac2b52e23a6ca\n",
            "Successfully built snakes\n",
            "Installing collected packages: snakes\n",
            "Successfully installed snakes-0.9.33\n"
          ]
        }
      ],
      "source": [
        "# Install the required libraries\n",
        "!pip install snakes graphviz\n"
      ]
    },
    {
      "cell_type": "code",
      "source": [
        "# Install the required libraries\n",
        "!pip install snakes graphviz\n"
      ],
      "metadata": {
        "colab": {
          "base_uri": "https://localhost:8080/"
        },
        "id": "JpSYnDOBufHg",
        "outputId": "fd794676-e0b1-4286-bfcf-c26759dc8550"
      },
      "execution_count": 13,
      "outputs": [
        {
          "output_type": "stream",
          "name": "stdout",
          "text": [
            "Requirement already satisfied: snakes in /usr/local/lib/python3.10/dist-packages (0.9.33)\n",
            "Requirement already satisfied: graphviz in /usr/local/lib/python3.10/dist-packages (0.20.3)\n"
          ]
        }
      ]
    },
    {
      "cell_type": "code",
      "source": [
        "!pip install snakes graphviz\n"
      ],
      "metadata": {
        "colab": {
          "base_uri": "https://localhost:8080/"
        },
        "id": "Ouu3IjVX-V4A",
        "outputId": "2aa8c7b6-c324-4c05-b573-d60431f584a5"
      },
      "execution_count": 21,
      "outputs": [
        {
          "output_type": "stream",
          "name": "stdout",
          "text": [
            "Requirement already satisfied: snakes in /usr/local/lib/python3.10/dist-packages (0.9.33)\n",
            "Requirement already satisfied: graphviz in /usr/local/lib/python3.10/dist-packages (0.20.3)\n"
          ]
        }
      ]
    },
    {
      "cell_type": "code",
      "source": [
        "# Import necessary modules from snakes\n",
        "from snakes.nets import *\n",
        "from graphviz import Source\n",
        "import graphviz\n",
        "\n",
        "# Create a Colored Petri Net (CPN) for an order processing system\n",
        "net = PetriNet('Order Processing System')\n",
        "\n",
        "# Define color sets (data types) - orders with customer ID and type (AssemblyRequired or Simple)\n",
        "net.add_place(Place('Order_Queue', [Token(('C001', 'AssemblyRequired')), Token(('C002', 'Simple'))]))\n",
        "net.add_place(Place('Preparation', []))\n",
        "net.add_place(Place('Delivery', []))\n",
        "\n",
        "# Add transitions for placing, preparing, and delivering orders\n",
        "net.add_transition(Transition('Place_Order'))\n",
        "net.add_transition(Transition('Prepare_Order'))\n",
        "net.add_transition(Transition('Deliver_Order'))\n",
        "\n",
        "# Define inputs and outputs for transitions using add_input and add_output\n",
        "net.add_input('Order_Queue', 'Place_Order', MultiArc([Variable('customer_id'), Variable('order_type')]))\n",
        "net.add_output('Preparation', 'Place_Order', Variable('customer_id'))\n",
        "net.add_output('Delivery', 'Place_Order', Variable('customer_id'))\n",
        "\n",
        "net.add_input('Preparation', 'Prepare_Order', Variable('x'))\n",
        "net.add_output('Delivery', 'Prepare_Order', Variable('x'))\n",
        "\n",
        "net.add_input('Delivery', 'Deliver_Order', Variable('x'))\n",
        "net.add_output('Order_Queue', 'Deliver_Order', Variable('x'))\n",
        "\n",
        "# Add guard conditions to transitions\n",
        "net.transition('Place_Order').add_guard(Guard('order_type == \"AssemblyRequired\"'))\n",
        "net.transition('Place_Order').add_guard(Guard('order_type == \"Simple\"'))\n",
        "\n",
        "# Print the Petri Net structure\n",
        "print(net)\n",
        "\n",
        "# Visualize the Petri Net using Graphviz\n",
        "def visualize_petri_net(net):\n",
        "    # Initialize Graphviz Digraph\n",
        "    dot = graphviz.Digraph()\n",
        "\n",
        "    # Add places (as circles) and transitions (as boxes)\n",
        "    for place in net.place():\n",
        "        dot.node(place.name, shape=\"circle\", label=place.name)\n",
        "    for transition in net.transition():\n",
        "        dot.node(transition.name, shape=\"box\", label=transition.name)\n",
        "\n",
        "    # Add arcs between places and transitions\n",
        "    for arc in net.arc():\n",
        "        if arc.transition.name == 'Place_Order':\n",
        "            dot.edge(arc.place.name, arc.transition.name, label=\"input\")\n",
        "        else:\n",
        "            dot.edge(arc.transition.name, arc.place.name, label=\"output\")\n",
        "\n",
        "    return dot\n",
        "\n",
        "# Render and display the Petri Net\n",
        "petri_net_viz = visualize_petri_net(net)\n",
        "petri_net_viz.render('petri_net_output', format='png', cleanup=True)\n",
        "petri_net_viz\n"
      ],
      "metadata": {
        "colab": {
          "base_uri": "https://localhost:8080/",
          "height": 211
        },
        "id": "01Y8-Uzs_aUS",
        "outputId": "40d4f8e3-3dde-4ddf-feb6-307ea43ab331"
      },
      "execution_count": 24,
      "outputs": [
        {
          "output_type": "error",
          "ename": "AttributeError",
          "evalue": "'Transition' object has no attribute 'add_guard'",
          "traceback": [
            "\u001b[0;31m---------------------------------------------------------------------------\u001b[0m",
            "\u001b[0;31mAttributeError\u001b[0m                            Traceback (most recent call last)",
            "\u001b[0;32m<ipython-input-24-0fa2d015ed55>\u001b[0m in \u001b[0;36m<cell line: 31>\u001b[0;34m()\u001b[0m\n\u001b[1;32m     29\u001b[0m \u001b[0;34m\u001b[0m\u001b[0m\n\u001b[1;32m     30\u001b[0m \u001b[0;31m# Add guard conditions to transitions\u001b[0m\u001b[0;34m\u001b[0m\u001b[0;34m\u001b[0m\u001b[0m\n\u001b[0;32m---> 31\u001b[0;31m \u001b[0mnet\u001b[0m\u001b[0;34m.\u001b[0m\u001b[0mtransition\u001b[0m\u001b[0;34m(\u001b[0m\u001b[0;34m'Place_Order'\u001b[0m\u001b[0;34m)\u001b[0m\u001b[0;34m.\u001b[0m\u001b[0madd_guard\u001b[0m\u001b[0;34m(\u001b[0m\u001b[0mGuard\u001b[0m\u001b[0;34m(\u001b[0m\u001b[0;34m'order_type == \"AssemblyRequired\"'\u001b[0m\u001b[0;34m)\u001b[0m\u001b[0;34m)\u001b[0m\u001b[0;34m\u001b[0m\u001b[0;34m\u001b[0m\u001b[0m\n\u001b[0m\u001b[1;32m     32\u001b[0m \u001b[0mnet\u001b[0m\u001b[0;34m.\u001b[0m\u001b[0mtransition\u001b[0m\u001b[0;34m(\u001b[0m\u001b[0;34m'Place_Order'\u001b[0m\u001b[0;34m)\u001b[0m\u001b[0;34m.\u001b[0m\u001b[0madd_guard\u001b[0m\u001b[0;34m(\u001b[0m\u001b[0mGuard\u001b[0m\u001b[0;34m(\u001b[0m\u001b[0;34m'order_type == \"Simple\"'\u001b[0m\u001b[0;34m)\u001b[0m\u001b[0;34m)\u001b[0m\u001b[0;34m\u001b[0m\u001b[0;34m\u001b[0m\u001b[0m\n\u001b[1;32m     33\u001b[0m \u001b[0;34m\u001b[0m\u001b[0m\n",
            "\u001b[0;31mAttributeError\u001b[0m: 'Transition' object has no attribute 'add_guard'"
          ]
        }
      ]
    },
    {
      "source": [
        "# Import necessary modules from snakes\n",
        "from snakes.nets import *\n",
        "from graphviz import Source\n",
        "import graphviz\n",
        "\n",
        "# Create a Colored Petri Net (CPN) for an order processing system\n",
        "net = PetriNet('Order Processing System')\n",
        "\n",
        "# Define color sets (data types) - orders with customer ID and type (AssemblyRequired or Simple)\n",
        "net.add_place(Place('Order_Queue', [Token(('C001', 'AssemblyRequired')), Token(('C002', 'Simple'))]))\n",
        "net.add_place(Place('Preparation', []))\n",
        "net.add_place(Place('Delivery', []))\n",
        "\n",
        "# Add transitions for placing, preparing, and delivering orders\n",
        "net.add_transition(Transition('Place_Order'))\n",
        "net.add_transition(Transition('Prepare_Order'))\n",
        "net.add_transition(Transition('Deliver_Order'))\n",
        "\n",
        "# Define inputs and outputs for transitions using add_input and add_output\n",
        "net.add_input('Order_Queue', 'Place_Order', MultiArc([Variable('customer_id'), Variable('order_type')]))\n",
        "net.add_output('Preparation', 'Place_Order', Variable('customer_id'))\n",
        "net.add_output('Delivery', 'Place_Order', Variable('customer_id'))\n",
        "\n",
        "net.add_input('Preparation', 'Prepare_Order', Variable('x'))\n",
        "net.add_output('Delivery', 'Prepare_Order', Variable('x'))\n",
        "\n",
        "net.add_input('Delivery', 'Deliver_Order', Variable('x'))\n",
        "net.add_output('Order_Queue', 'Deliver_Order', Variable('x'))\n",
        "\n",
        "# Add guard condition to transition using Expression\n",
        "net.transition('Place_Order').guard = Expression('order_type == \"AssemblyRequired\" or order_type == \"Simple\"')\n",
        "\n",
        "# Print the Petri Net structure\n",
        "print(net)\n",
        "\n",
        "# Visualize the Petri Net using Graphviz\n",
        "def visualize_petri_net(net):\n",
        "    # Initialize Graphviz Digraph\n",
        "    dot = graphviz.Digraph()\n",
        "\n",
        "    # Add places (as circles) and transitions (as boxes)\n",
        "    for place in net.place():\n",
        "        dot.node(place.name, shape=\"circle\", label=place.name)\n",
        "    for transition in net.transition():\n",
        "        dot.node(transition.name, shape=\"box\", label=transition.name)\n",
        "\n",
        "    # Add arcs between places and transitions (both inputs and outputs)\n",
        "    for transition in net.transition():\n",
        "        for place, arc in transition.input():\n",
        "            dot.edge(place.name, transition.name, label=\"input\")\n",
        "        for place, arc in transition.output():\n",
        "            dot.edge(transition.name, place.name, label=\"output\")\n",
        "\n",
        "    return dot\n",
        "\n",
        "# Render and display the Petri Net\n",
        "petri_net_viz = visualize_petri_net(net)\n",
        "petri_net_viz.render('petri_net_output', format='png', cleanup=True)\n",
        "petri_net_viz\n"
      ],
      "cell_type": "code",
      "metadata": {
        "colab": {
          "base_uri": "https://localhost:8080/",
          "height": 937
        },
        "id": "u859NGEh_syN",
        "outputId": "095d8575-0138-4cfb-fd16-bbad237824d5"
      },
      "execution_count": 31,
      "outputs": [
        {
          "output_type": "stream",
          "name": "stdout",
          "text": [
            "Order Processing System\n"
          ]
        },
        {
          "output_type": "execute_result",
          "data": {
            "image/svg+xml": "<?xml version=\"1.0\" encoding=\"UTF-8\" standalone=\"no\"?>\n<!DOCTYPE svg PUBLIC \"-//W3C//DTD SVG 1.1//EN\"\n \"http://www.w3.org/Graphics/SVG/1.1/DTD/svg11.dtd\">\n<!-- Generated by graphviz version 2.43.0 (0)\n -->\n<!-- Title: %3 Pages: 1 -->\n<svg width=\"237pt\" height=\"674pt\"\n viewBox=\"0.00 0.00 237.35 673.87\" xmlns=\"http://www.w3.org/2000/svg\" xmlns:xlink=\"http://www.w3.org/1999/xlink\">\n<g id=\"graph0\" class=\"graph\" transform=\"scale(1 1) rotate(0) translate(4 669.87)\">\n<title>%3</title>\n<polygon fill=\"white\" stroke=\"transparent\" points=\"-4,4 -4,-669.87 233.35,-669.87 233.35,4 -4,4\"/>\n<!-- Order_Queue -->\n<g id=\"node1\" class=\"node\">\n<title>Order_Queue</title>\n<ellipse fill=\"none\" stroke=\"black\" cx=\"159.35\" cy=\"-607.38\" rx=\"58.49\" ry=\"58.49\"/>\n<text text-anchor=\"middle\" x=\"159.35\" y=\"-603.68\" font-family=\"Times,serif\" font-size=\"14.00\">Order_Queue</text>\n</g>\n<!-- Place_Order -->\n<g id=\"node4\" class=\"node\">\n<title>Place_Order</title>\n<polygon fill=\"none\" stroke=\"black\" points=\"166.35,-497.88 82.35,-497.88 82.35,-461.88 166.35,-461.88 166.35,-497.88\"/>\n<text text-anchor=\"middle\" x=\"124.35\" y=\"-476.18\" font-family=\"Times,serif\" font-size=\"14.00\">Place_Order</text>\n</g>\n<!-- Order_Queue&#45;&gt;Place_Order -->\n<g id=\"edge1\" class=\"edge\">\n<title>Order_Queue&#45;&gt;Place_Order</title>\n<path fill=\"none\" stroke=\"black\" d=\"M143.79,-550.6C139.65,-535.77 135.37,-520.42 131.88,-507.9\"/>\n<polygon fill=\"black\" stroke=\"black\" points=\"135.21,-506.82 129.16,-498.13 128.47,-508.71 135.21,-506.82\"/>\n<text text-anchor=\"middle\" x=\"151.35\" y=\"-519.68\" font-family=\"Times,serif\" font-size=\"14.00\">input</text>\n</g>\n<!-- Preparation -->\n<g id=\"node2\" class=\"node\">\n<title>Preparation</title>\n<ellipse fill=\"none\" stroke=\"black\" cx=\"51.35\" cy=\"-359.54\" rx=\"51.19\" ry=\"51.19\"/>\n<text text-anchor=\"middle\" x=\"51.35\" y=\"-355.84\" font-family=\"Times,serif\" font-size=\"14.00\">Preparation</text>\n</g>\n<!-- Prepare_Order -->\n<g id=\"node5\" class=\"node\">\n<title>Prepare_Order</title>\n<polygon fill=\"none\" stroke=\"black\" points=\"101.35,-257.19 5.35,-257.19 5.35,-221.19 101.35,-221.19 101.35,-257.19\"/>\n<text text-anchor=\"middle\" x=\"53.35\" y=\"-235.49\" font-family=\"Times,serif\" font-size=\"14.00\">Prepare_Order</text>\n</g>\n<!-- Preparation&#45;&gt;Prepare_Order -->\n<g id=\"edge4\" class=\"edge\">\n<title>Preparation&#45;&gt;Prepare_Order</title>\n<path fill=\"none\" stroke=\"black\" d=\"M52.2,-308.01C52.43,-294.15 52.68,-279.65 52.88,-267.64\"/>\n<polygon fill=\"black\" stroke=\"black\" points=\"56.39,-267.44 53.05,-257.39 49.39,-267.32 56.39,-267.44\"/>\n<text text-anchor=\"middle\" x=\"67.35\" y=\"-278.99\" font-family=\"Times,serif\" font-size=\"14.00\">input</text>\n</g>\n<!-- Delivery -->\n<g id=\"node3\" class=\"node\">\n<title>Delivery</title>\n<ellipse fill=\"none\" stroke=\"black\" cx=\"124.35\" cy=\"-128.6\" rx=\"41.69\" ry=\"41.69\"/>\n<text text-anchor=\"middle\" x=\"124.35\" y=\"-124.9\" font-family=\"Times,serif\" font-size=\"14.00\">Delivery</text>\n</g>\n<!-- Deliver_Order -->\n<g id=\"node6\" class=\"node\">\n<title>Deliver_Order</title>\n<polygon fill=\"none\" stroke=\"black\" points=\"206.85,-36 111.85,-36 111.85,0 206.85,0 206.85,-36\"/>\n<text text-anchor=\"middle\" x=\"159.35\" y=\"-14.3\" font-family=\"Times,serif\" font-size=\"14.00\">Deliver_Order</text>\n</g>\n<!-- Delivery&#45;&gt;Deliver_Order -->\n<g id=\"edge6\" class=\"edge\">\n<title>Delivery&#45;&gt;Deliver_Order</title>\n<path fill=\"none\" stroke=\"black\" d=\"M136.88,-88.7C141.46,-74.48 146.54,-58.73 150.71,-45.81\"/>\n<polygon fill=\"black\" stroke=\"black\" points=\"154.09,-46.72 153.82,-36.13 147.43,-44.57 154.09,-46.72\"/>\n<text text-anchor=\"middle\" x=\"161.35\" y=\"-57.8\" font-family=\"Times,serif\" font-size=\"14.00\">input</text>\n</g>\n<!-- Place_Order&#45;&gt;Preparation -->\n<g id=\"edge2\" class=\"edge\">\n<title>Place_Order&#45;&gt;Preparation</title>\n<path fill=\"none\" stroke=\"black\" d=\"M98.53,-461.65C92.26,-456.52 86.02,-450.48 81.35,-443.88 75.99,-436.33 71.5,-427.72 67.75,-418.96\"/>\n<polygon fill=\"black\" stroke=\"black\" points=\"70.92,-417.45 63.98,-409.45 64.41,-420.03 70.92,-417.45\"/>\n<text text-anchor=\"middle\" x=\"98.85\" y=\"-432.68\" font-family=\"Times,serif\" font-size=\"14.00\">output</text>\n</g>\n<!-- Place_Order&#45;&gt;Delivery -->\n<g id=\"edge3\" class=\"edge\">\n<title>Place_Order&#45;&gt;Delivery</title>\n<path fill=\"none\" stroke=\"black\" d=\"M124.35,-461.56C124.35,-410.71 124.35,-260.42 124.35,-180.66\"/>\n<polygon fill=\"black\" stroke=\"black\" points=\"127.85,-180.36 124.35,-170.36 120.85,-180.36 127.85,-180.36\"/>\n<text text-anchor=\"middle\" x=\"141.85\" y=\"-278.99\" font-family=\"Times,serif\" font-size=\"14.00\">output</text>\n</g>\n<!-- Prepare_Order&#45;&gt;Delivery -->\n<g id=\"edge5\" class=\"edge\">\n<title>Prepare_Order&#45;&gt;Delivery</title>\n<path fill=\"none\" stroke=\"black\" d=\"M62.43,-220.76C67.67,-211.01 74.56,-198.73 81.35,-188.19 85.06,-182.42 89.14,-176.45 93.26,-170.63\"/>\n<polygon fill=\"black\" stroke=\"black\" points=\"96.29,-172.42 99.29,-162.26 90.61,-168.33 96.29,-172.42\"/>\n<text text-anchor=\"middle\" x=\"98.85\" y=\"-191.99\" font-family=\"Times,serif\" font-size=\"14.00\">output</text>\n</g>\n<!-- Deliver_Order&#45;&gt;Order_Queue -->\n<g id=\"edge7\" class=\"edge\">\n<title>Deliver_Order&#45;&gt;Order_Queue</title>\n<path fill=\"none\" stroke=\"black\" d=\"M170.66,-36.27C173.86,-41.76 177.08,-47.97 179.35,-54 191.11,-85.24 194.35,-94.21 194.35,-127.6 194.35,-480.88 194.35,-480.88 194.35,-480.88 194.35,-501.59 189.87,-523.53 184.12,-543.18\"/>\n<polygon fill=\"black\" stroke=\"black\" points=\"180.72,-542.34 181.11,-552.92 187.41,-544.4 180.72,-542.34\"/>\n<text text-anchor=\"middle\" x=\"211.85\" y=\"-278.99\" font-family=\"Times,serif\" font-size=\"14.00\">output</text>\n</g>\n</g>\n</svg>\n",
            "text/plain": [
              "<graphviz.graphs.Digraph at 0x7a9f90134760>"
            ]
          },
          "metadata": {},
          "execution_count": 31
        }
      ]
    }
  ]
}